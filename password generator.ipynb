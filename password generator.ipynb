{
 "cells": [
  {
   "cell_type": "code",
   "execution_count": 48,
   "id": "bb29ccbc",
   "metadata": {},
   "outputs": [
    {
     "name": "stdout",
     "output_type": "stream",
     "text": [
      "['H', '@', 'Z', '#', '9', '$', 'V', '8', '2']\n",
      "The generated password is:\n",
      "H@Z#9$V82\n"
     ]
    }
   ],
   "source": [
    "import random\n",
    "password=[]\n",
    "alphabets=['a','b','c','d','e','f','g','h','i','j','k','l','m','n','o','p','q','r','s','t','u','v','w','x','y','z',\n",
    "           'A','B','C','D','E','F','G','H','I','J','K','L','M','N','O','P','Q','R','S','T','U','V','W','X','Y','Z']\n",
    "digits=['0','1','2','3','4','5','6','7','8','9']\n",
    "sp_Char=['!','@','#','$','%','^','&','*','(',')','_','+']\n",
    "\n",
    "for i in range(0,3):\n",
    "    password.append(random.choice(alphabets))\n",
    "    password.append(random.choice(digits))\n",
    "    password.append(random.choice(sp_Char))\n",
    "random.shuffle(password)\n",
    "print(password)\n",
    "print(\"The generated password is:\")\n",
    "x=''\n",
    "for i in password:\n",
    "    x+=i\n",
    "print(x)"
   ]
  }
 ],
 "metadata": {
  "kernelspec": {
   "display_name": "Python 3 (ipykernel)",
   "language": "python",
   "name": "python3"
  },
  "language_info": {
   "codemirror_mode": {
    "name": "ipython",
    "version": 3
   },
   "file_extension": ".py",
   "mimetype": "text/x-python",
   "name": "python",
   "nbconvert_exporter": "python",
   "pygments_lexer": "ipython3",
   "version": "3.9.13"
  }
 },
 "nbformat": 4,
 "nbformat_minor": 5
}
