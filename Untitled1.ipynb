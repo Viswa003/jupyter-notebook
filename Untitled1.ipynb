{
 "cells": [
  {
   "cell_type": "code",
   "execution_count": 10,
   "id": "0719fad9",
   "metadata": {},
   "outputs": [
    {
     "name": "stdout",
     "output_type": "stream",
     "text": [
      "reject\n"
     ]
    }
   ],
   "source": [
    "from math import sqrt\n",
    "import scipy.stats as st\n",
    "n=100\n",
    "sd=15\n",
    "mu=126\n",
    "xbar=120\n",
    "zalp=1.96\n",
    "z=abs((xbar-mu)/(sd/sqrt(n)))\n",
    "if zalp>z:\n",
    "    print(\"accept\")\n",
    "else:\n",
    "    print(\"reject\")"
   ]
  },
  {
   "cell_type": "code",
   "execution_count": 17,
   "id": "36f06f98",
   "metadata": {},
   "outputs": [
    {
     "name": "stdout",
     "output_type": "stream",
     "text": [
      "We reject Null Hypothesis..\n"
     ]
    }
   ],
   "source": [
    "\n",
    "from math import sqrt\n",
    "n1=400\n",
    "n2=400\n",
    "x1bar=250\n",
    "x2bar=220\n",
    "s1=40\n",
    "s2=55\n",
    "z=(x1bar-x2bar)/sqrt((s1**2/n1)+(s2**2/n2))\n",
    "zalp=2.58\n",
    "if (z>zalp):\n",
    " print(\"We reject Null Hypothesis..\")\n",
    "else:\n",
    " print(\"We accept Null Hypothesis..\")"
   ]
  },
  {
   "cell_type": "code",
   "execution_count": 22,
   "id": "3dad26fb",
   "metadata": {},
   "outputs": [
    {
     "data": {
      "text/plain": [
       "-2.3263478740408408"
      ]
     },
     "execution_count": 22,
     "metadata": {},
     "output_type": "execute_result"
    }
   ],
   "source": [
    "import scipy.stats\n",
    "scipy.stats.norm.ppf(0.01)"
   ]
  },
  {
   "cell_type": "code",
   "execution_count": null,
   "id": "b66f6933",
   "metadata": {},
   "outputs": [],
   "source": []
  }
 ],
 "metadata": {
  "kernelspec": {
   "display_name": "Python 3 (ipykernel)",
   "language": "python",
   "name": "python3"
  },
  "language_info": {
   "codemirror_mode": {
    "name": "ipython",
    "version": 3
   },
   "file_extension": ".py",
   "mimetype": "text/x-python",
   "name": "python",
   "nbconvert_exporter": "python",
   "pygments_lexer": "ipython3",
   "version": "3.9.13"
  }
 },
 "nbformat": 4,
 "nbformat_minor": 5
}
