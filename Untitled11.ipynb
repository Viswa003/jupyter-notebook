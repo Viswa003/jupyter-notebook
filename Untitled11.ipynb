{
 "cells": [
  {
   "cell_type": "code",
   "execution_count": 42,
   "id": "90235f5d",
   "metadata": {},
   "outputs": [
    {
     "name": "stdout",
     "output_type": "stream",
     "text": [
      "\n"
     ]
    }
   ],
   "source": [
    "x=-7980\n",
    "s=str(x)\n",
    "if x<0:\n",
    "    print(s[:len(s)-1:-1])"
   ]
  },
  {
   "cell_type": "code",
   "execution_count": 26,
   "id": "6d1e3300",
   "metadata": {},
   "outputs": [
    {
     "name": "stdout",
     "output_type": "stream",
     "text": [
      "2\n",
      "7\n",
      "8\n",
      "10\n",
      "-1\n"
     ]
    }
   ],
   "source": [
    "s = \"loveleetcode\"\n",
    "for i in range(len(s)):\n",
    "    if s.count(s[i])==1:\n",
    "        print(i)\n",
    "print(-1)"
   ]
  },
  {
   "cell_type": "code",
   "execution_count": 33,
   "id": "f7999e84",
   "metadata": {},
   "outputs": [
    {
     "name": "stdout",
     "output_type": "stream",
     "text": [
      "yes\n"
     ]
    }
   ],
   "source": [
    "s = \"anagram\"\n",
    "t = \"nagaram\"\n",
    "if sorted(s)==sorted(t):\n",
    "    print(\"yes\")"
   ]
  },
  {
   "cell_type": "code",
   "execution_count": 34,
   "id": "d4db3ecc",
   "metadata": {},
   "outputs": [
    {
     "ename": "SyntaxError",
     "evalue": "invalid syntax (4194139740.py, line 5)",
     "output_type": "error",
     "traceback": [
      "\u001b[1;36m  File \u001b[1;32m\"C:\\Users\\viswa\\AppData\\Local\\Temp\\ipykernel_5240\\4194139740.py\"\u001b[1;36m, line \u001b[1;32m5\u001b[0m\n\u001b[1;33m    if prices[i]-prices[j]==max(x)\u001b[0m\n\u001b[1;37m                                  ^\u001b[0m\n\u001b[1;31mSyntaxError\u001b[0m\u001b[1;31m:\u001b[0m invalid syntax\n"
     ]
    }
   ],
   "source": [
    "prices = [7,1,5,3,6,4]\n",
    "x=[]\n",
    "for i in range(len(prices)):\n",
    "    for j  in range(len(prices)):\n",
    "        if prices[i]-prices[j]==max(x):\n",
    "            break"
   ]
  },
  {
   "cell_type": "code",
   "execution_count": null,
   "id": "b14a8b30",
   "metadata": {},
   "outputs": [],
   "source": [
    "prices = [7,1,5,3,6,4]\n",
    "min_price=min(prices)\n",
    "p=0\n",
    "for i in range(len(prices)):\n",
    "    if prices[i]==min_price:\n",
    "p=max(p,max(prices[i:])-prices[i])\n",
    "return p"
   ]
  },
  {
   "cell_type": "code",
   "execution_count": 42,
   "id": "82e48f5f",
   "metadata": {},
   "outputs": [
    {
     "ename": "IndexError",
     "evalue": "string index out of range",
     "output_type": "error",
     "traceback": [
      "\u001b[1;31m---------------------------------------------------------------------------\u001b[0m",
      "\u001b[1;31mIndexError\u001b[0m                                Traceback (most recent call last)",
      "\u001b[1;32m~\\AppData\\Local\\Temp\\ipykernel_5240\\655349838.py\u001b[0m in \u001b[0;36m<module>\u001b[1;34m\u001b[0m\n\u001b[0;32m      3\u001b[0m \u001b[0mj\u001b[0m\u001b[1;33m=\u001b[0m\u001b[1;36m0\u001b[0m\u001b[1;33m\u001b[0m\u001b[1;33m\u001b[0m\u001b[0m\n\u001b[0;32m      4\u001b[0m \u001b[1;32mfor\u001b[0m \u001b[0mi\u001b[0m \u001b[1;32min\u001b[0m \u001b[0mrange\u001b[0m\u001b[1;33m(\u001b[0m\u001b[0mlen\u001b[0m\u001b[1;33m(\u001b[0m\u001b[0mhaystack\u001b[0m\u001b[1;33m)\u001b[0m\u001b[1;33m)\u001b[0m\u001b[1;33m:\u001b[0m\u001b[1;33m\u001b[0m\u001b[1;33m\u001b[0m\u001b[0m\n\u001b[1;32m----> 5\u001b[1;33m     \u001b[1;32mif\u001b[0m \u001b[0mneedle\u001b[0m\u001b[1;33m[\u001b[0m\u001b[0mj\u001b[0m\u001b[1;33m]\u001b[0m\u001b[1;33m==\u001b[0m\u001b[0mhaystack\u001b[0m\u001b[1;33m[\u001b[0m\u001b[0mj\u001b[0m\u001b[1;33m]\u001b[0m\u001b[1;33m:\u001b[0m\u001b[1;33m\u001b[0m\u001b[1;33m\u001b[0m\u001b[0m\n\u001b[0m\u001b[0;32m      6\u001b[0m         \u001b[0mj\u001b[0m\u001b[1;33m+=\u001b[0m\u001b[1;36m1\u001b[0m\u001b[1;33m\u001b[0m\u001b[1;33m\u001b[0m\u001b[0m\n\u001b[0;32m      7\u001b[0m \u001b[0mprint\u001b[0m\u001b[1;33m(\u001b[0m\u001b[0mj\u001b[0m\u001b[1;33m)\u001b[0m\u001b[1;33m\u001b[0m\u001b[1;33m\u001b[0m\u001b[0m\n",
      "\u001b[1;31mIndexError\u001b[0m: string index out of range"
     ]
    }
   ],
   "source": [
    "haystack = \"sadbutsad\"\n",
    "needle = \"sad\"\n",
    "j=0\n",
    "for i in range(len(haystack)):\n",
    "    if needle[j]==haystack[j]:\n",
    "        j+=1\n",
    "print(j)"
   ]
  },
  {
   "cell_type": "code",
   "execution_count": 1,
   "id": "515fe4c8",
   "metadata": {},
   "outputs": [],
   "source": [
    "l=[\"(\",\")\",\"[\",\"]\",\"{\",\"}\"]\n",
    "s = \"()[]{}\"\n",
    "for i in range(len(s)):\n",
    "    for j in range(0,len(l),2):\n",
    "        if l[j] in s and l[j+1] in s:\n",
    "            break\n",
    "            print(\"true\")\n",
    "        else:\n",
    "            print(\"false\")"
   ]
  },
  {
   "cell_type": "code",
   "execution_count": null,
   "id": "0becaa01",
   "metadata": {},
   "outputs": [],
   "source": [
    "l=[\"(\",\")\",\"[\",\"]\",\"{\",\"}\"]\n",
    "s = \"()[]{}\"\n",
    "x=[]\n",
    "for i in s:\n",
    "    x.append(i)\n",
    "    if i"
   ]
  }
 ],
 "metadata": {
  "kernelspec": {
   "display_name": "Python 3 (ipykernel)",
   "language": "python",
   "name": "python3"
  },
  "language_info": {
   "codemirror_mode": {
    "name": "ipython",
    "version": 3
   },
   "file_extension": ".py",
   "mimetype": "text/x-python",
   "name": "python",
   "nbconvert_exporter": "python",
   "pygments_lexer": "ipython3",
   "version": "3.9.13"
  }
 },
 "nbformat": 4,
 "nbformat_minor": 5
}
