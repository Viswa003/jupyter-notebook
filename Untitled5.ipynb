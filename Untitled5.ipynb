{
 "cells": [
  {
   "cell_type": "code",
   "execution_count": 4,
   "id": "978d9010",
   "metadata": {},
   "outputs": [
    {
     "name": "stdout",
     "output_type": "stream",
     "text": [
      "Reject the null hypothesis.\n"
     ]
    }
   ],
   "source": [
    "#8\n",
    "import scipy.stats as stats\n",
    "mean = 99\n",
    "n = 400\n",
    "mu = 100\n",
    "sigma = 8\n",
    "z = (mean - mu) / (sigma / (n**0.5))\n",
    "p_value = stats.norm.sf(abs(z)) * 2\n",
    "if p_value < 0.05:\n",
    "    print(\"Reject the null hypothesis.\")\n",
    "else:\n",
    "    print(\"Fail to reject the null hypothesis.\")"
   ]
  },
  {
   "cell_type": "code",
   "execution_count": 6,
   "id": "057fec47",
   "metadata": {},
   "outputs": [
    {
     "name": "stdout",
     "output_type": "stream",
     "text": [
      "Fail to reject the claim.\n"
     ]
    },
    {
     "name": "stderr",
     "output_type": "stream",
     "text": [
      "C:\\Users\\viswa\\AppData\\Local\\Temp\\ipykernel_21192\\3992131775.py:6: RuntimeWarning: Precision loss occurred in moment calculation due to catastrophic cancellation. This occurs when the data are nearly identical. Results may be unreliable.\n",
      "  t, p = stats.ttest_1samp(mean, claim)\n"
     ]
    }
   ],
   "source": [
    "#9\n",
    "from scipy import stats\n",
    "mean = 126\n",
    "std = 15\n",
    "claim = 120\n",
    "n = 100\n",
    "t, p = stats.ttest_1samp(mean, claim)\n",
    "if p < 0.05:\n",
    "    print(\"Reject the claim.\")\n",
    "else:\n",
    "    print(\"Fail to reject the claim.\")"
   ]
  },
  {
   "cell_type": "code",
   "execution_count": null,
   "id": "bc73ef0b",
   "metadata": {},
   "outputs": [],
   "source": []
  }
 ],
 "metadata": {
  "kernelspec": {
   "display_name": "Python 3 (ipykernel)",
   "language": "python",
   "name": "python3"
  },
  "language_info": {
   "codemirror_mode": {
    "name": "ipython",
    "version": 3
   },
   "file_extension": ".py",
   "mimetype": "text/x-python",
   "name": "python",
   "nbconvert_exporter": "python",
   "pygments_lexer": "ipython3",
   "version": "3.9.13"
  }
 },
 "nbformat": 4,
 "nbformat_minor": 5
}
