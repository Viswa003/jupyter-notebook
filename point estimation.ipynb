{
 "cells": [
  {
   "cell_type": "code",
   "execution_count": 6,
   "id": "7a4007b1",
   "metadata": {},
   "outputs": [
    {
     "name": "stdout",
     "output_type": "stream",
     "text": [
      "point estimation of mean 13.0\n",
      "standard deviation 3.4641\n",
      "[10.8529, 15.1471]\n"
     ]
    }
   ],
   "source": [
    "import numpy as np\n",
    "from math import sqrt\n",
    "d=np.array([15,17,10,18,16,9,7,11,13,14])\n",
    "mean=d.mean()\n",
    "std=d.std()\n",
    "Z=1.96\n",
    "print(\"point estimation of mean\",round(mean,4))\n",
    "print(\"standard deviation\",round(std,4))\n",
    "se=std/(np.sqrt(len(d)))\n",
    "ci=[]\n",
    "ci.append(round(mean-(Z*se),4))\n",
    "ci.append(round(mean+(Z*se),4))\n",
    "print(ci)"
   ]
  },
  {
   "cell_type": "code",
   "execution_count": null,
   "id": "f8f8b01f",
   "metadata": {},
   "outputs": [],
   "source": []
  }
 ],
 "metadata": {
  "kernelspec": {
   "display_name": "Python 3 (ipykernel)",
   "language": "python",
   "name": "python3"
  },
  "language_info": {
   "codemirror_mode": {
    "name": "ipython",
    "version": 3
   },
   "file_extension": ".py",
   "mimetype": "text/x-python",
   "name": "python",
   "nbconvert_exporter": "python",
   "pygments_lexer": "ipython3",
   "version": "3.9.13"
  }
 },
 "nbformat": 4,
 "nbformat_minor": 5
}
