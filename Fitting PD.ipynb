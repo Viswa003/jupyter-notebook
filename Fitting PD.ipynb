{
 "cells": [
  {
   "cell_type": "code",
   "execution_count": 16,
   "id": "85b50adf",
   "metadata": {},
   "outputs": [
    {
     "name": "stdout",
     "output_type": "stream",
     "text": [
      "<bound method NDFrame.head of    x    y\n",
      "0  0  109\n",
      "1  1   68\n",
      "2  2   22\n",
      "3  3    3\n",
      "4  4    1>\n",
      "   count  mean        std  min  25%   50%   75%    max\n",
      "x    5.0   2.0   1.581139  0.0  1.0   2.0   3.0    4.0\n",
      "y    5.0  40.6  46.789956  1.0  3.0  22.0  68.0  109.0\n",
      "original frequency\n",
      "109 68 22 3 1 Expected frequencies [110, 68, 21, 4]\n"
     ]
    }
   ],
   "source": [
    "import pandas as pd\n",
    "import matplotlib.pyplot as plt\n",
    "import scipy.special as sp\n",
    "import math\n",
    "bd=pd.DataFrame()\n",
    "bd['x']=[0,1,2,3,4]\n",
    "bd['y']=[109,68,22,3,1]\n",
    "n=len(bd['y'])-1\n",
    "print(bd.head)\n",
    "print(bd.describe().T)\n",
    "N=sum(bd['y'])\n",
    "f=bd['x']*bd['y']\n",
    "mean=f.sum()/N\n",
    "p=mean/n\n",
    "q=1-p\n",
    "exp_freq=[]\n",
    "print(\"original frequency\")\n",
    "for i in bd['y']:\n",
    "    print(i,end=\" \")\n",
    "k=0\n",
    "while k<n:\n",
    "    a=N*math.exp(-mean)*(mean**k)/math.factorial(k)\n",
    "    exp_freq.append(round(a))\n",
    "    k=k+1\n",
    "print(\"Expected frequencies\",exp_freq)"
   ]
  },
  {
   "cell_type": "code",
   "execution_count": null,
   "id": "37ba5445",
   "metadata": {},
   "outputs": [],
   "source": []
  }
 ],
 "metadata": {
  "kernelspec": {
   "display_name": "Python 3 (ipykernel)",
   "language": "python",
   "name": "python3"
  },
  "language_info": {
   "codemirror_mode": {
    "name": "ipython",
    "version": 3
   },
   "file_extension": ".py",
   "mimetype": "text/x-python",
   "name": "python",
   "nbconvert_exporter": "python",
   "pygments_lexer": "ipython3",
   "version": "3.9.13"
  }
 },
 "nbformat": 4,
 "nbformat_minor": 5
}
