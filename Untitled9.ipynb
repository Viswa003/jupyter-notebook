{
 "cells": [
  {
   "cell_type": "code",
   "execution_count": 15,
   "id": "70137345",
   "metadata": {},
   "outputs": [
    {
     "name": "stdout",
     "output_type": "stream",
     "text": [
      "[4, 5, 6, 7, 0, 1, 2]\n",
      "6\n",
      "0\n"
     ]
    }
   ],
   "source": [
    "cnums=[0,1,2,4,5,6,7]\n",
    "k=3\n",
    "target=2\n",
    "for i in range(len(nums)):\n",
    "    if i==k:\n",
    "        nums=nums[k:]+nums[:k]\n",
    "        print(nums)\n",
    "        for j in range(len(nums)):\n",
    "            if nums[j]==target:\n",
    "                print(j)\n",
    "print(0)"
   ]
  },
  {
   "cell_type": "code",
   "execution_count": null,
   "id": "516c459e",
   "metadata": {},
   "outputs": [],
   "source": []
  },
  {
   "cell_type": "code",
   "execution_count": null,
   "id": "cb9dccc6",
   "metadata": {},
   "outputs": [],
   "source": []
  },
  {
   "cell_type": "code",
   "execution_count": 18,
   "id": "8e12709e",
   "metadata": {},
   "outputs": [
    {
     "name": "stdout",
     "output_type": "stream",
     "text": [
      "[1, 1, 1, 1, 1, 1, 1]\n",
      "[1, 1, 1, 1, 1, 1, 1]\n",
      "[1, 1, 1, 1, 1, 1, 1]\n"
     ]
    }
   ],
   "source": [
    "nums = [1,2,3,4,5,6,7]\n",
    "k = 3\n",
    "for i in range(k):\n",
    "    for j in range(0,len(nums)):\n",
    "        for k in range(1,len(nums)):\n",
    "            nums[j]=nums[i]\n",
    "    nums[0]=nums[len(nums)-1]\n",
    "    print(nums)"
   ]
  },
  {
   "cell_type": "code",
   "execution_count": null,
   "id": "62c5a9d7",
   "metadata": {},
   "outputs": [],
   "source": []
  },
  {
   "cell_type": "code",
   "execution_count": 27,
   "id": "d7b96cfb",
   "metadata": {},
   "outputs": [
    {
     "name": "stdout",
     "output_type": "stream",
     "text": [
      "[5, 6, 7, 1, 2, 3, 4]\n"
     ]
    }
   ],
   "source": [
    "nums = [1,2,3,4,5,6,7]\n",
    "k=3\n",
    "for i in range(k):\n",
    "    nums.insert(0,nums.pop())\n",
    "print(nums)"
   ]
  },
  {
   "cell_type": "code",
   "execution_count": 6,
   "id": "633b4658",
   "metadata": {},
   "outputs": [
    {
     "name": "stdout",
     "output_type": "stream",
     "text": [
      "[9, 1, 2, 3, 4, 5, 6, 7]\n"
     ]
    }
   ],
   "source": [
    "nums = [1,2,3,4,5,6,7]\n",
    "nums.insert(0,9)\n",
    "print(nums)"
   ]
  },
  {
   "cell_type": "code",
   "execution_count": 26,
   "id": "60f8db15",
   "metadata": {},
   "outputs": [
    {
     "name": "stdout",
     "output_type": "stream",
     "text": [
      "[5, 6, 7, 1, 2, 3, 4]\n"
     ]
    }
   ],
   "source": [
    "nums = [1,2,3,4,5,6,7]\n",
    "k = 3\n",
    "for i in range(k):\n",
    "    l=[]\n",
    "    l.append(nums.pop())\n",
    "    nums=l+nums\n",
    "print(nums)"
   ]
  },
  {
   "cell_type": "code",
   "execution_count": 68,
   "id": "38affefd",
   "metadata": {},
   "outputs": [
    {
     "name": "stdout",
     "output_type": "stream",
     "text": [
      "[5]\n"
     ]
    }
   ],
   "source": [
    "nums = [1,2,1,3,2,5]\n",
    "count=0\n",
    "for i in range(len(nums)):\n",
    "    for j in range(len(nums)):\n",
    "        if nums[j]==nums[j+1]:\n",
    "            count=count+1"
   ]
  },
  {
   "cell_type": "code",
   "execution_count": 42,
   "id": "6d387bbb",
   "metadata": {},
   "outputs": [
    {
     "name": "stdout",
     "output_type": "stream",
     "text": [
      "[1, 2, 1, 3, 2, 5]\n",
      "[]\n"
     ]
    }
   ],
   "source": [
    "nums = [1,2,1,3,2,5]\n",
    "x=[]\n",
    "print(nums)\n",
    "for i in range(len(nums)):\n",
    "    count=0\n",
    "    for j in range(i+1,len(nums)):\n",
    "        if nums[i]==nums[j]:\n",
    "            count=count+1\n",
    "    if count==0 and nums[i] not in x:\n",
    "        x.append(nums[i])\n",
    "print(list(set(x)-set(nums)))"
   ]
  },
  {
   "cell_type": "code",
   "execution_count": 99,
   "id": "c86fade2",
   "metadata": {},
   "outputs": [
    {
     "name": "stdout",
     "output_type": "stream",
     "text": [
      "[2, 2]\n"
     ]
    }
   ],
   "source": [
    "nums1 = [1,2,2,1]\n",
    "nums2 = [2,2]\n",
    "x=[]\n",
    "count=0\n",
    "for i in range(len(nums1)):\n",
    "        count=0\n",
    "        for j in range(len(nums2)):\n",
    "            if nums1[i]==nums2[j]:\n",
    "                count=count+1\n",
    "        if nums[i] and nums[j] not in x:\n",
    "            for k in range(count):\n",
    "                x.append(nums1[i])\n",
    "print(x)"
   ]
  },
  {
   "cell_type": "code",
   "execution_count": 109,
   "id": "1299d7a1",
   "metadata": {},
   "outputs": [
    {
     "name": "stdout",
     "output_type": "stream",
     "text": [
      "[4, 4, 9, 9]\n"
     ]
    }
   ],
   "source": [
    "nums1 = [4,9,5]\n",
    "nums2 = [9,4,9,8,4]\n",
    "x=[]\n",
    "for num1 in nums1:\n",
    "    count=0\n",
    "    for num2 in nums2:\n",
    "        if num1==num2:\n",
    "            count+=1\n",
    "    for k in range(count):\n",
    "        x.append(num1)\n",
    "print(x)"
   ]
  },
  {
   "cell_type": "code",
   "execution_count": 111,
   "id": "f44a081b",
   "metadata": {},
   "outputs": [
    {
     "name": "stdout",
     "output_type": "stream",
     "text": [
      "[2]\n"
     ]
    }
   ],
   "source": [
    "nums1 = [1,2,2,1]\n",
    "nums2 = [2,2]\n",
    "\n",
    "# Convert the lists to sets\n",
    "set1 = set(nums1)\n",
    "set2 = set(nums2)\n",
    "\n",
    "# Find the intersection using set intersection\n",
    "intersection = set1.intersection(set2)\n",
    "\n",
    "# Convert the result back to a list\n",
    "x = list(intersection)\n",
    "\n",
    "print(x)\n"
   ]
  },
  {
   "cell_type": "code",
   "execution_count": 102,
   "id": "20007c8a",
   "metadata": {},
   "outputs": [
    {
     "name": "stdout",
     "output_type": "stream",
     "text": [
      "[1, 2, 2, 1, 2, 2]\n"
     ]
    }
   ],
   "source": [
    "nums1 = [1,2,2,1]\n",
    "nums2 = [2,2]\n",
    "x=[]\n",
    "nums=nums1+nums2\n",
    "for num in nums:\n",
    "    if nums.count(num)!=1:\n",
    "        x.append(num)\n",
    "print(x)"
   ]
  }
 ],
 "metadata": {
  "kernelspec": {
   "display_name": "Python 3 (ipykernel)",
   "language": "python",
   "name": "python3"
  },
  "language_info": {
   "codemirror_mode": {
    "name": "ipython",
    "version": 3
   },
   "file_extension": ".py",
   "mimetype": "text/x-python",
   "name": "python",
   "nbconvert_exporter": "python",
   "pygments_lexer": "ipython3",
   "version": "3.9.13"
  }
 },
 "nbformat": 4,
 "nbformat_minor": 5
}
