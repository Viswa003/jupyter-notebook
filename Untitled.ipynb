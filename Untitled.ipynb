{
 "cells": [
  {
   "cell_type": "code",
   "execution_count": 3,
   "id": "59f7aea2",
   "metadata": {},
   "outputs": [
    {
     "name": "stdout",
     "output_type": "stream",
     "text": [
      "6.992058987801014\n",
      "we reject\n"
     ]
    }
   ],
   "source": [
    "from math import sqrt\n",
    "n1=1000\n",
    "n2=1200\n",
    "x1=800\n",
    "x2=800\n",
    "p1=x1/n1\n",
    "p2=x2/n2\n",
    "P=((n1*p1)+(n2*p2))/(n1+n2)\n",
    "Q=1-P\n",
    "z=(p1-p2)/sqrt(P*Q*((1/n1)+(1/n2)))\n",
    "zalp=1.96\n",
    "print(z)\n",
    "if(z>zalp):\n",
    "  print(\"we reject\")\n",
    "else:\n",
    "  print(\"we accept\")"
   ]
  },
  {
   "cell_type": "code",
   "execution_count": null,
   "id": "db15ec02",
   "metadata": {},
   "outputs": [],
   "source": []
  }
 ],
 "metadata": {
  "kernelspec": {
   "display_name": "Python 3 (ipykernel)",
   "language": "python",
   "name": "python3"
  },
  "language_info": {
   "codemirror_mode": {
    "name": "ipython",
    "version": 3
   },
   "file_extension": ".py",
   "mimetype": "text/x-python",
   "name": "python",
   "nbconvert_exporter": "python",
   "pygments_lexer": "ipython3",
   "version": "3.9.13"
  }
 },
 "nbformat": 4,
 "nbformat_minor": 5
}
