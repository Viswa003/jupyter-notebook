{
 "cells": [
  {
   "cell_type": "code",
   "execution_count": 1,
   "id": "ac8ba405",
   "metadata": {},
   "outputs": [
    {
     "name": "stdout",
     "output_type": "stream",
     "text": [
      "Enter m value 5\n",
      "Enter n value 3\n",
      "1\n"
     ]
    }
   ],
   "source": [
    "def gcd(m,n):\n",
    "    if m%n==0:\n",
    "        return n\n",
    "    else:\n",
    "        return gcd(n,m%n)\n",
    "m=int(input(\"Enter m value \"))\n",
    "n=int(input(\"Enter n value \"))\n",
    "if m>n:\n",
    "    print(gcd(m,n))\n",
    "else:\n",
    "    print(gcd(n,m))"
   ]
  },
  {
   "cell_type": "code",
   "execution_count": 5,
   "id": "6bf00d34",
   "metadata": {},
   "outputs": [
    {
     "name": "stdout",
     "output_type": "stream",
     "text": [
      "3\n",
      "5\n",
      "17\n",
      "257\n",
      "65537\n"
     ]
    }
   ],
   "source": [
    "for i in range(5):\n",
    "    print(2**2**i+1)"
   ]
  },
  {
   "cell_type": "code",
   "execution_count": 10,
   "id": "ef61d23b",
   "metadata": {},
   "outputs": [
    {
     "name": "stdout",
     "output_type": "stream",
     "text": [
      "[0, 1, 2, 3, 4, 5]\n",
      "[67.37946999085467, 336.89734995427335, 842.2433748856832, 1403.7389581428051, 1754.6736976785062, 1754.6736976785069]\n"
     ]
    },
    {
     "data": {
      "text/plain": [
       "<BarContainer object of 6 artists>"
      ]
     },
     "execution_count": 10,
     "metadata": {},
     "output_type": "execute_result"
    },
    {
     "data": {
      "image/png": "[encoded data removed]",
      "text/plain": [
       "<Figure size 640x480 with 1 Axes>"
      ]
     },
     "metadata": {},
     "output_type": "display_data"
    }
   ],
   "source": [
    "import matplotlib.pyplot as plt\n",
    "import numpy as np\n",
    "from scipy.stats import poisson\n",
    "N=10000\n",
    "p=5\n",
    "x=[0,1,2,3,4,5]\n",
    "print(x)\n",
    "d=[N*poisson.pmf(r,p) for r in x]\n",
    "print(d)\n",
    "plt.bar(x,d)"
   ]
  },
  {
   "cell_type": "code",
   "execution_count": 18,
   "id": "ddd7cc18",
   "metadata": {},
   "outputs": [
    {
     "name": "stdout",
     "output_type": "stream",
     "text": [
      "0.9999999999969005\n",
      "0.7340144709512995\n",
      "0.6283646972844441\n"
     ]
    }
   ],
   "source": [
    "import scipy.stats as sp\n",
    "from scipy.stats import norm\n",
    "mean=76\n",
    "sd=16\n",
    "sample=100\n",
    "sample_sd=sd/np.sqrt(sample)\n",
    "z1=(65-mean)/sample_sd\n",
    "z2=(77-mean)/sample_sd\n",
    "z3=(75-mean)/sample_sd\n",
    "z4=(78-mean)/sample_sd\n",
    "print(norm.sf(z1))\n",
    "print(norm.cdf(z2))\n",
    "print(norm.cdf(z4)-norm.cdf(z3))"
   ]
  },
  {
   "cell_type": "code",
   "execution_count": null,
   "id": "021162f6",
   "metadata": {},
   "outputs": [],
   "source": []
  }
 ],
 "metadata": {
  "kernelspec": {
   "display_name": "Python 3 (ipykernel)",
   "language": "python",
   "name": "python3"
  },
  "language_info": {
   "codemirror_mode": {
    "name": "ipython",
    "version": 3
   },
   "file_extension": ".py",
   "mimetype": "text/x-python",
   "name": "python",
   "nbconvert_exporter": "python",
   "pygments_lexer": "ipython3",
   "version": "3.9.13"
  }
 },
 "nbformat": 4,
 "nbformat_minor": 5
}
