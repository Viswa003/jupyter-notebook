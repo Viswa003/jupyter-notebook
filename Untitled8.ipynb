{
 "cells": [
  {
   "cell_type": "code",
   "execution_count": 33,
   "id": "5195f4d7",
   "metadata": {},
   "outputs": [
    {
     "name": "stdout",
     "output_type": "stream",
     "text": [
      "enter month: 10\n",
      "enter year: 2003\n",
      "enter date25\n",
      "dateTime object at specific date 2003-10-25\n",
      "Datetime from timestamp: 2217-10-12 08:16:59\n",
      "time at present=: 2023-07-31 20:45:33.571580\n",
      "current year= 2023\n",
      "current month= 7\n",
      "current day= 31\n",
      "age= 7377 days, 0:00:00\n",
      "age in days= 7377\n",
      "seconds in age= 0\n"
     ]
    }
   ],
   "source": [
    "import datetime\n",
    "import time\n",
    "month = int(input(\"enter month: \"))\n",
    "year = int(input(\"enter year: \"))\n",
    "date = int(input(\"enter date\"))\n",
    "dateTime_obj = datetime.date(year,month,date)\n",
    "print(\"dateTime object at specific date\",dateTime_obj)\n",
    "date_time = datetime.datetime.fromtimestamp(7819123619)\n",
    "print(\"Datetime from timestamp:\", date_time)\n",
    "current=datetime.datetime.now()\n",
    "print(\"time at present=:\",current)\n",
    "print(\"current year=\",current.year)\n",
    "print(\"current month=\",current.month)\n",
    "print(\"current day=\",current.day)\n",
    "age=datetime.date(2023,6,20)-datetime.date(2003,4,9)\n",
    "print(\"age=\",age)\n",
    "print(\"age in days=\",age.days)\n",
    "print(\"seconds in age=\",age.seconds)"
   ]
  },
  {
   "cell_type": "code",
   "execution_count": 45,
   "id": "3fb674ea",
   "metadata": {},
   "outputs": [
    {
     "name": "stdout",
     "output_type": "stream",
     "text": [
      "[[ 1.  2. -4.]\n",
      " [nan  5. -6.]\n",
      " [-4.  2. nan]]\n",
      "mean: 0.4444444444444444\n",
      "absolute values:\n",
      " [[ 1.  2.  4.]\n",
      " [nan  5.  6.]\n",
      " [ 4.  2. nan]]\n",
      "[[1.         2.         4.        ]\n",
      " [0.44444444 5.         6.        ]\n",
      " [4.         2.         0.44444444]]\n",
      "[[0 0 1]\n",
      " [0 1 1]\n",
      " [1 0 0]]\n"
     ]
    }
   ],
   "source": [
    "import numpy as np\n",
    "arr=np.array([[1,2,-4],[np.nan,5,-6],[-4,2,np.nan]])\n",
    "print(arr)\n",
    "mean=np.mean(arr>0)\n",
    "print('mean:',mean)\n",
    "ab=np.abs(arr)\n",
    "print('absolute values:\\n',ab)\n",
    "a=np.where(np.isnan(ab),mean,ab)\n",
    "print(a)\n",
    "b=np.where(a>3,1,0)\n",
    "#after descretization\n",
    "print(b)"
   ]
  }
 ],
 "metadata": {
  "kernelspec": {
   "display_name": "Python 3 (ipykernel)",
   "language": "python",
   "name": "python3"
  },
  "language_info": {
   "codemirror_mode": {
    "name": "ipython",
    "version": 3
   },
   "file_extension": ".py",
   "mimetype": "text/x-python",
   "name": "python",
   "nbconvert_exporter": "python",
   "pygments_lexer": "ipython3",
   "version": "3.9.13"
  }
 },
 "nbformat": 4,
 "nbformat_minor": 5
}
