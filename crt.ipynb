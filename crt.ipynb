{
 "cells": [
  {
   "cell_type": "code",
   "execution_count": 2,
   "id": "f7c14a42",
   "metadata": {},
   "outputs": [
    {
     "name": "stdout",
     "output_type": "stream",
     "text": [
      "565\n"
     ]
    }
   ],
   "source": [
    "from functools import reduce\n",
    "def chinese_remainder(m,a):\n",
    "    sum=0\n",
    "    prod=reduce(lambda acc,b:acc*b,m)\n",
    "    for n_i,a_i in zip(m,a):\n",
    "        p=prod//n_i\n",
    "        sum+=a_i*mul_inv(p,n_i)*p\n",
    "    return sum%prod\n",
    "def mul_inv(a,b):\n",
    "    b0=b\n",
    "    x0,x1=0,1\n",
    "    if b==1:\n",
    "        return 1\n",
    "    while a>1:\n",
    "        q=a//b\n",
    "        a,b=b,a%b\n",
    "        x0,x1=x1-q*x0,x0\n",
    "    if x1<0:\n",
    "        x1+=b0\n",
    "    return x1\n",
    "if __name__=='__main__':\n",
    "    a=[4, 5, 6]\n",
    "    m=[11, 7, 13]\n",
    "    print(chinese_remainder(m,a))"
   ]
  },
  {
   "cell_type": "code",
   "execution_count": 7,
   "id": "1258f3fe",
   "metadata": {},
   "outputs": [
    {
     "name": "stdout",
     "output_type": "stream",
     "text": [
      "enter the no.of linear equations:3\n",
      "enter a 1\n",
      "4\n",
      "enter m 1\n",
      "11\n",
      "enter a 2\n",
      "5\n",
      "enter m 2\n",
      "7\n",
      "enter a 3\n",
      "6\n",
      "enter m 3\n",
      "13\n",
      "solution of linear equztions is ; 565\n"
     ]
    }
   ],
   "source": [
    "from functools import reduce\n",
    "n=int(input(\"enter the no.of linear equations:\"))\n",
    "a=list()\n",
    "m=list()\n",
    "I=list()\n",
    "w=list()\n",
    "sum=0\n",
    "for i in range(n):\n",
    "    print(\"enter a\",i+1)\n",
    "    a.append(int(input()))\n",
    "    print('enter m',i+1)\n",
    "    m.append(int(input()))\n",
    "M=reduce(lambda a,b:a*b,m)\n",
    "for i in range(n):\n",
    "    r=M//m[i]\n",
    "    w.append(r)\n",
    "    for j in range(1,m[i]):\n",
    "        if(r*j)%m[i]==1:\n",
    "            I.append(j)\n",
    "            break\n",
    "for i in range(n):\n",
    "    sum+=a[i]*I[i]*w[i]\n",
    "print(\"solution of linear equztions is ;\",sum%M)"
   ]
  },
  {
   "cell_type": "code",
   "execution_count": 12,
   "id": "0dbc1061",
   "metadata": {},
   "outputs": [
    {
     "name": "stdout",
     "output_type": "stream",
     "text": [
      "Enter number of equations you want to enter :3\n",
      "Enter a  1\n",
      "4\n",
      "Enter m  1\n",
      "11\n",
      "Enter a  2\n",
      "5\n",
      "Enter m  2\n",
      "7\n",
      "Enter a  3\n",
      "6\n",
      "Enter m  3\n",
      "13\n",
      "129\n"
     ]
    }
   ],
   "source": [
    "from functools import reduce\n",
    "n=int(input(\"Enter number of equations you want to enter :\"))\n",
    "a=list()\n",
    "m=list()\n",
    "I=list()\n",
    "w=list()\n",
    "for i in range(n):\n",
    "    print(\"Enter a \",i+1)\n",
    "    a.append(int(input()))\n",
    "    print(\"Enter m \",i+1)\n",
    "    m.append(int(input()))\n",
    "M=reduce(lambda a,b:a*b,m)\n",
    "for i in range(n):\n",
    "    r=M//m[i]\n",
    "    w.append(r)\n",
    "    for j in range(1,m[i]):\n",
    "        if(r*j)%m[i]==1:\n",
    "            I.append(j)\n",
    "            break\n",
    "for i in range(n):\n",
    "    sum+=a[i]*I[i]*w[i]\n",
    "print(sum%M)"
   ]
  },
  {
   "cell_type": "code",
   "execution_count": null,
   "id": "d40bdb32",
   "metadata": {},
   "outputs": [],
   "source": []
  }
 ],
 "metadata": {
  "kernelspec": {
   "display_name": "Python 3 (ipykernel)",
   "language": "python",
   "name": "python3"
  },
  "language_info": {
   "codemirror_mode": {
    "name": "ipython",
    "version": 3
   },
   "file_extension": ".py",
   "mimetype": "text/x-python",
   "name": "python",
   "nbconvert_exporter": "python",
   "pygments_lexer": "ipython3",
   "version": "3.9.13"
  }
 },
 "nbformat": 4,
 "nbformat_minor": 5
}
